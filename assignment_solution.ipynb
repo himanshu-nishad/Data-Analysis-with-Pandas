{
  "nbformat": 4,
  "nbformat_minor": 0,
  "metadata": {
    "colab": {
      "provenance": [],
      "authorship_tag": "ABX9TyNoFfllvZTEUd1pMKVfACXS",
      "include_colab_link": true
    },
    "kernelspec": {
      "name": "python3",
      "display_name": "Python 3"
    },
    "language_info": {
      "name": "python"
    }
  },
  "cells": [
    {
      "cell_type": "markdown",
      "metadata": {
        "id": "view-in-github",
        "colab_type": "text"
      },
      "source": [
        "<a href=\"https://colab.research.google.com/github/himanshu-nishad/Data-Analysis-with-Pandas/blob/main/assignment_solution.ipynb\" target=\"_parent\"><img src=\"https://colab.research.google.com/assets/colab-badge.svg\" alt=\"Open In Colab\"/></a>"
      ]
    },
    {
      "cell_type": "code",
      "execution_count": 1,
      "metadata": {
        "id": "BeGWiT1OHl4m"
      },
      "outputs": [],
      "source": [
        "import numpy as np\n",
        "import pandas as pd"
      ]
    },
    {
      "cell_type": "code",
      "source": [
        "\n",
        "\n",
        "# Load the Excel file\n",
        "file_path = \"/content/Data Analyst Assignement .xlsx\"\n",
        "xls = pd.ExcelFile(file_path)\n",
        "\n",
        "# Load individual sheets\n",
        "attempts_df = pd.read_excel(xls, sheet_name=\"Attempts Data\")\n",
        "chapter_df = pd.read_excel(xls, sheet_name=\"Chapter Data\")\n",
        "\n",
        "# Display first few rows\n",
        "attempts_df.head(), chapter_df.head()\n"
      ],
      "metadata": {
        "colab": {
          "base_uri": "https://localhost:8080/"
        },
        "id": "SUzzJfk0IpUw",
        "outputId": "90a65093-fb86-4e7a-cfc7-feb9bd149022"
      },
      "execution_count": 5,
      "outputs": [
        {
          "output_type": "execute_result",
          "data": {
            "text/plain": [
              "(   school_id  user_id  section_id  chapter_id  topic_id quiz_type    qid  \\\n",
              " 0       1124   132591        3677       16228     16229        PE  13865   \n",
              " 1       1124   132591        3677       16228     16229        PE    560   \n",
              " 2       1124   132591        3677       16228     16229        PE  13872   \n",
              " 3       1096   121315        2706       21994     21999        PE  16155   \n",
              " 4       1096   121315        2706       21994     21999        PE  16223   \n",
              " \n",
              "   question_status learning_unit_id Bloom taxonomy       date             time  \n",
              " 0         correct         LU005214          apply 2024-10-03  14:36:54.975000  \n",
              " 1         correct         LU005214          apply 2024-10-03  14:36:54.975000  \n",
              " 2         correct         LU005214        analyse 2024-10-03  14:36:54.975000  \n",
              " 3         correct         LU005381     understand 2024-10-03  14:37:00.403000  \n",
              " 4         correct         LU005377       remember 2024-10-03  14:37:00.403000  ,\n",
              "    section_id  chapter          start_time            end_time\n",
              " 0        1981    16737 2025-01-17 07:48:35 2025-01-28 07:49:18\n",
              " 1        2777    14641 2025-01-11 09:07:42 2025-01-28 04:51:44\n",
              " 2        2776    14641 2025-01-13 12:40:31 2025-01-28 04:51:21\n",
              " 3        2120     7595 2025-01-27 19:06:07 2025-01-27 22:04:11\n",
              " 4        3134    25300 2025-01-05 18:23:18 2025-01-27 21:39:46)"
            ]
          },
          "metadata": {},
          "execution_count": 5
        }
      ]
    },
    {
      "cell_type": "code",
      "source": [
        "# Checking for Duplicates in Attempts data\n",
        "attempts_df.duplicated().sum()\n"
      ],
      "metadata": {
        "colab": {
          "base_uri": "https://localhost:8080/"
        },
        "id": "k_2RNkKKJw2T",
        "outputId": "c01a3a23-3b84-452d-8033-fbfc67481291"
      },
      "execution_count": 9,
      "outputs": [
        {
          "output_type": "execute_result",
          "data": {
            "text/plain": [
              "51"
            ]
          },
          "metadata": {},
          "execution_count": 9
        }
      ]
    },
    {
      "cell_type": "code",
      "source": [
        "# Checking for Duplicates in Chapter data\n",
        "chapter_df.duplicated().sum()"
      ],
      "metadata": {
        "colab": {
          "base_uri": "https://localhost:8080/"
        },
        "id": "gAatViyUKKIz",
        "outputId": "0c849648-06b0-440b-8717-df672754b0a4"
      },
      "execution_count": 10,
      "outputs": [
        {
          "output_type": "execute_result",
          "data": {
            "text/plain": [
              "0"
            ]
          },
          "metadata": {},
          "execution_count": 10
        }
      ]
    },
    {
      "cell_type": "code",
      "source": [
        "# Removing the Duplicates form Attempts data\n",
        "attempts_df_cleaned = attempts_df.drop_duplicates()\n",
        "chapter_df_cleaned = chapter_df.drop_duplicates()\n"
      ],
      "metadata": {
        "id": "t7piIvNkKtAe"
      },
      "execution_count": 11,
      "outputs": []
    },
    {
      "cell_type": "code",
      "source": [
        "#Handling the Missing Values in Chapter Data\n",
        "chapter_df_cleaned = chapter_df_cleaned.dropna(subset=['end_time'])\n",
        "\n"
      ],
      "metadata": {
        "id": "QMgnUV3VLP8N"
      },
      "execution_count": 15,
      "outputs": []
    },
    {
      "cell_type": "markdown",
      "source": [
        "**Top 5 section where Accuracy percentage is High**"
      ],
      "metadata": {
        "id": "LcRClqVmMpoK"
      }
    },
    {
      "source": [
        "accuracy_df = attempts_df_cleaned.groupby('section_id')['question_status'].apply(lambda x: (x == 'correct').mean()).reset_index()\n",
        "top_sections = accuracy_df.sort_values(by='question_status', ascending=False).head(5)\n",
        "print(\"Top 5 Sections with Highest Accuracy:\\n\", top_sections)"
      ],
      "cell_type": "code",
      "metadata": {
        "colab": {
          "base_uri": "https://localhost:8080/"
        },
        "id": "otdUVJJUOYIa",
        "outputId": "e7700be2-d0a8-441e-9935-383bb23a7ed7"
      },
      "execution_count": 20,
      "outputs": [
        {
          "output_type": "stream",
          "name": "stdout",
          "text": [
            "Top 5 Sections with Highest Accuracy:\n",
            "     section_id  question_status\n",
            "0         1981              1.0\n",
            "76        3660              1.0\n",
            "79        3677              1.0\n",
            "54        2851              1.0\n",
            "28        2626              1.0\n"
          ]
        }
      ]
    },
    {
      "cell_type": "markdown",
      "source": [
        "**Identify Bottom 2 Learning Units with Lowest Accuracy**"
      ],
      "metadata": {
        "id": "AZNlUXk-Oj1q"
      }
    },
    {
      "source": [
        "learning_unit_accuracy = attempts_df_cleaned.groupby('learning_unit_id')['question_status'].apply(lambda x: (x == 'correct').mean()).reset_index()\n",
        "bottom_units = learning_unit_accuracy.sort_values(by='question_status').head(2)\n",
        "print(\"Bottom 2 Learning Units with Lowest Accuracy:\\n\", bottom_units)"
      ],
      "cell_type": "code",
      "metadata": {
        "colab": {
          "base_uri": "https://localhost:8080/"
        },
        "id": "bD2jyQf9OyNN",
        "outputId": "df3cf829-e883-4188-9d48-b0c95587eb33"
      },
      "execution_count": 22,
      "outputs": [
        {
          "output_type": "stream",
          "name": "stdout",
          "text": [
            "Bottom 2 Learning Units with Lowest Accuracy:\n",
            "     learning_unit_id  question_status\n",
            "283         LU005435              0.0\n",
            "170         LU000735              0.0\n"
          ]
        }
      ]
    },
    {
      "cell_type": "markdown",
      "source": [
        "**Check Percentage of Attempts Before Chapter End Time**"
      ],
      "metadata": {
        "id": "CcsXUjQOPrd5"
      }
    },
    {
      "cell_type": "code",
      "source": [],
      "metadata": {
        "id": "imDHD9NQPzIc"
      },
      "execution_count": null,
      "outputs": []
    },
    {
      "source": [
        "# Assuming 'merged_df' contains columns 'date' and 'time'\n",
        "# If 'date' column is not present, adjust accordingly\n",
        "\n",
        "# Create a new column 'datetime' by combining 'date' and 'time' columns\n",
        "merged_df['datetime'] = pd.to_datetime(merged_df['date'].astype(str) + ' ' + merged_df['time'].astype(str))\n",
        "\n",
        "# Now use 'datetime' column for comparison\n",
        "merged_df[\"attempt_before_end\"] = merged_df[\"datetime\"] < merged_df[\"end_time\"]\n",
        "attempt_before_end_percentage = merged_df[\"attempt_before_end\"].mean() * 100\n",
        "print(\"Percentage of Attempts Before Chapter End Time:\", attempt_before_end_percentage, \"%\")"
      ],
      "cell_type": "code",
      "metadata": {
        "colab": {
          "base_uri": "https://localhost:8080/"
        },
        "id": "BJL3LDPMQf19",
        "outputId": "41736bbd-bdf5-4d45-af12-6a21781fdd03"
      },
      "execution_count": 28,
      "outputs": [
        {
          "output_type": "stream",
          "name": "stdout",
          "text": [
            "Percentage of Attempts Before Chapter End Time: 54.76529160739687 %\n"
          ]
        }
      ]
    },
    {
      "cell_type": "markdown",
      "source": [
        "**Plotting Attempt Trends Over Time**"
      ],
      "metadata": {
        "id": "IPCPOfGbQtYI"
      }
    },
    {
      "cell_type": "code",
      "source": [
        "import matplotlib.pyplot as plt\n",
        "\n",
        "# Count attempts per date\n",
        "attempts_over_time = attempts_df_cleaned.groupby(\"date\").size()\n",
        "\n",
        "# Plot\n",
        "plt.figure(figsize=(10, 5))\n",
        "plt.plot(attempts_over_time.index, attempts_over_time.values, marker=\"o\", linestyle=\"-\", color=\"b\")\n",
        "plt.xlabel(\"Date\")\n",
        "plt.ylabel(\"Number of Attempts\")\n",
        "plt.title(\"Attempt Behavior Over Time\")\n",
        "plt.grid(True)\n",
        "plt.xticks(rotation=45)\n",
        "plt.show()\n"
      ],
      "metadata": {
        "colab": {
          "base_uri": "https://localhost:8080/",
          "height": 540
        },
        "id": "nsdxDmS_QXJP",
        "outputId": "dcd687c9-61b2-4049-a2f1-e4dca744e0b9"
      },
      "execution_count": 29,
      "outputs": [
        {
          "output_type": "display_data",
          "data": {
            "text/plain": [
              "<Figure size 1000x500 with 1 Axes>"
            ],
            "image/png": "[encoded data removed]"
          },
          "metadata": {}
        }
      ]
    },
    {
      "cell_type": "code",
      "source": [],
      "metadata": {
        "id": "dz6l8Q1aQ01n"
      },
      "execution_count": null,
      "outputs": []
    }
  ]
}